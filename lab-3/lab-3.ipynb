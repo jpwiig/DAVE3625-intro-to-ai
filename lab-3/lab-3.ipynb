{
 "cells": [
  {
   "cell_type": "markdown",
   "metadata": {},
   "source": [
    "# Lab 3"
   ]
  },
  {
   "cell_type": "markdown",
   "metadata": {},
   "source": [
    "|DAVE3625|Lab 3|Oblig 1|\n",
    "|--------|-----|-------|\n",
    "\n",
    "#### Some notes about the lab\n",
    "- Since i have done lab 3 in one notebook, i have two different df.\n",
    "- df = the one that contains fake data\n",
    "- dfplanes =  the plane with departue times "
   ]
  },
  {
   "cell_type": "markdown",
   "metadata": {},
   "source": []
  },
  {
   "cell_type": "markdown",
   "metadata": {},
   "source": [
    "#### Porpouse of generating fake data\n",
    "\n",
    "The most imporant reason to generate fake data is privacy. This is aspecially important for traing AI models, as this makes sure that the privacy of the end user is ensured and you can train your Ai model before providing properly data. Fake data is also important for testing propourses [K2View](https://www.k2view.com/blog/generate-fake-data/). You can also conserve resources, with means that you can generate more data with the same power. \n",
    "\n",
    "Please refer to the code comments, as this will be the main way for me to comment on how the code works"
   ]
  },
  {
   "cell_type": "code",
   "execution_count": 7,
   "metadata": {},
   "outputs": [
    {
     "data": {
      "text/html": [
       "<div>\n",
       "<style scoped>\n",
       "    .dataframe tbody tr th:only-of-type {\n",
       "        vertical-align: middle;\n",
       "    }\n",
       "\n",
       "    .dataframe tbody tr th {\n",
       "        vertical-align: top;\n",
       "    }\n",
       "\n",
       "    .dataframe thead th {\n",
       "        text-align: right;\n",
       "    }\n",
       "</style>\n",
       "<table border=\"1\" class=\"dataframe\">\n",
       "  <thead>\n",
       "    <tr style=\"text-align: right;\">\n",
       "      <th></th>\n",
       "      <th>Navn</th>\n",
       "      <th>Adresse</th>\n",
       "      <th>PersonNr</th>\n",
       "      <th>CreditCard</th>\n",
       "      <th>ipv4</th>\n",
       "    </tr>\n",
       "  </thead>\n",
       "  <tbody>\n",
       "    <tr>\n",
       "      <th>0</th>\n",
       "      <td>Sara Aune</td>\n",
       "      <td>Larsenhøgda 1A, 2665 Gulbrandsen</td>\n",
       "      <td>21013809930</td>\n",
       "      <td>2274017959531764</td>\n",
       "      <td>184.43.137.209</td>\n",
       "    </tr>\n",
       "    <tr>\n",
       "      <th>1</th>\n",
       "      <td>Kristian Jørgensen</td>\n",
       "      <td>Jacobsenstranda 12, 9341 Jacobsen</td>\n",
       "      <td>17079818496</td>\n",
       "      <td>4265114450705653</td>\n",
       "      <td>89.95.163.209</td>\n",
       "    </tr>\n",
       "    <tr>\n",
       "      <th>2</th>\n",
       "      <td>Hans Nygård</td>\n",
       "      <td>Ruudflata 6C, 7018 Rønning</td>\n",
       "      <td>23014537376</td>\n",
       "      <td>377669299214012</td>\n",
       "      <td>2.61.160.41</td>\n",
       "    </tr>\n",
       "    <tr>\n",
       "      <th>3</th>\n",
       "      <td>Ann-Inger Vik</td>\n",
       "      <td>Haugtjernet 6, 9239 Grethehavn</td>\n",
       "      <td>17119014182</td>\n",
       "      <td>4257317612212852</td>\n",
       "      <td>65.50.133.137</td>\n",
       "    </tr>\n",
       "    <tr>\n",
       "      <th>4</th>\n",
       "      <td>Tommy Pedersen</td>\n",
       "      <td>Næsshagen 6C, 3366 Unnivåg</td>\n",
       "      <td>02087500090</td>\n",
       "      <td>213153710409244</td>\n",
       "      <td>91.203.208.99</td>\n",
       "    </tr>\n",
       "  </tbody>\n",
       "</table>\n",
       "</div>"
      ],
      "text/plain": [
       "                 Navn                            Adresse     PersonNr  \\\n",
       "0           Sara Aune   Larsenhøgda 1A, 2665 Gulbrandsen  21013809930   \n",
       "1  Kristian Jørgensen  Jacobsenstranda 12, 9341 Jacobsen  17079818496   \n",
       "2         Hans Nygård         Ruudflata 6C, 7018 Rønning  23014537376   \n",
       "3       Ann-Inger Vik     Haugtjernet 6, 9239 Grethehavn  17119014182   \n",
       "4      Tommy Pedersen         Næsshagen 6C, 3366 Unnivåg  02087500090   \n",
       "\n",
       "         CreditCard            ipv4  \n",
       "0  2274017959531764  184.43.137.209  \n",
       "1  4265114450705653   89.95.163.209  \n",
       "2   377669299214012     2.61.160.41  \n",
       "3  4257317612212852   65.50.133.137  \n",
       "4   213153710409244   91.203.208.99  "
      ]
     },
     "execution_count": 7,
     "metadata": {},
     "output_type": "execute_result"
    }
   ],
   "source": [
    "#imports, in this first part we mainly use faker and pandas\n",
    "%matplotlib inline\n",
    "import numpy as np\n",
    "import matplotlib.pyplot as plt\n",
    "import datetime\n",
    "from faker import Faker; \n",
    "import pandas as pd; \n",
    "from faker.providers.credit_card import Provider as creditcardProivder; \n",
    "\n",
    "\n",
    "df = pd.DataFrame(columns=['Navn', 'Adresse', 'PersonNr', 'CreditCard', 'ipv4']) #Used to define what the different columbs are\n",
    "#Colums: Navn, Adresse, PersonNr, Creditcard, ipv4\n",
    "fake = Faker(['no_NO']) #decides the condition for the fake credential -> this instance, we can see the that is use Norwegian setting \n",
    "#Uses a for loop to add the fake data. \n",
    "for i in range(0,100):\n",
    "    row=fake.name(),fake.address(),fake.ssn(),fake.credit_card_number(), fake.ipv4()\n",
    "    df.loc[i]=row\n",
    "\n",
    "df.head() # To Make sure that the data is shown properly and the dataset looks good (at least at first glance)"
   ]
  },
  {
   "cell_type": "markdown",
   "metadata": {},
   "source": [
    "Task 2: data anonymization"
   ]
  },
  {
   "cell_type": "code",
   "execution_count": 8,
   "metadata": {},
   "outputs": [],
   "source": [
    "#Waiting for answear from TAs, due to the issues with landromomat"
   ]
  },
  {
   "cell_type": "markdown",
   "metadata": {},
   "source": [
    "## explaination of the code provided from the TAs  \n",
    "**NOTE:** *Due to the import issues i will try to explian in this markdown block on how the code could have worked*\n",
    "\n",
    "```\n",
    "\n",
    "\n",
    "```\n"
   ]
  },
  {
   "cell_type": "markdown",
   "metadata": {},
   "source": [
    "## Part 2: Plane and delays (Task 3)"
   ]
  },
  {
   "cell_type": "markdown",
   "metadata": {},
   "source": [
    "### Task 3: Time Series "
   ]
  },
  {
   "cell_type": "markdown",
   "metadata": {},
   "source": [
    "In This task we will try to understand more about how it is to work with time in pandas.\n",
    "\n",
    "To start with we import the dataset from github, this is a big dataset, so we import a raw csv file\n",
    "\n",
    "see coments in code to understand more"
   ]
  },
  {
   "cell_type": "code",
   "execution_count": 9,
   "metadata": {},
   "outputs": [
    {
     "data": {
      "text/html": [
       "<div>\n",
       "<style scoped>\n",
       "    .dataframe tbody tr th:only-of-type {\n",
       "        vertical-align: middle;\n",
       "    }\n",
       "\n",
       "    .dataframe tbody tr th {\n",
       "        vertical-align: top;\n",
       "    }\n",
       "\n",
       "    .dataframe thead th {\n",
       "        text-align: right;\n",
       "    }\n",
       "</style>\n",
       "<table border=\"1\" class=\"dataframe\">\n",
       "  <thead>\n",
       "    <tr style=\"text-align: right;\">\n",
       "      <th></th>\n",
       "      <th>Unnamed: 0</th>\n",
       "      <th>datetime_val</th>\n",
       "      <th>dep_time</th>\n",
       "      <th>arr_time</th>\n",
       "      <th>sched_arr_time</th>\n",
       "      <th>flight</th>\n",
       "      <th>origin</th>\n",
       "      <th>dest</th>\n",
       "      <th>airTime</th>\n",
       "      <th>delay</th>\n",
       "    </tr>\n",
       "  </thead>\n",
       "  <tbody>\n",
       "    <tr>\n",
       "      <th>0</th>\n",
       "      <td>0</td>\n",
       "      <td>2013-1-1 05:40:00</td>\n",
       "      <td>2013-01-01 05:42:00</td>\n",
       "      <td>2013-01-01 09:23:00</td>\n",
       "      <td>2013-01-01 08:50:00</td>\n",
       "      <td>1141</td>\n",
       "      <td>JFK</td>\n",
       "      <td>MIA</td>\n",
       "      <td>0 days 03:41:00</td>\n",
       "      <td>0 days 00:33:00</td>\n",
       "    </tr>\n",
       "    <tr>\n",
       "      <th>1</th>\n",
       "      <td>1</td>\n",
       "      <td>2013-1-1 06:00:00</td>\n",
       "      <td>2013-01-01 05:54:00</td>\n",
       "      <td>2013-01-01 08:12:00</td>\n",
       "      <td>2013-01-01 08:37:00</td>\n",
       "      <td>461</td>\n",
       "      <td>LGA</td>\n",
       "      <td>ATL</td>\n",
       "      <td>0 days 02:18:00</td>\n",
       "      <td>0 days 00:25:00</td>\n",
       "    </tr>\n",
       "    <tr>\n",
       "      <th>2</th>\n",
       "      <td>2</td>\n",
       "      <td>2013-1-1 05:58:00</td>\n",
       "      <td>2013-01-01 05:54:00</td>\n",
       "      <td>2013-01-01 07:40:00</td>\n",
       "      <td>2013-01-01 07:28:00</td>\n",
       "      <td>1696</td>\n",
       "      <td>EWR</td>\n",
       "      <td>ORD</td>\n",
       "      <td>0 days 01:46:00</td>\n",
       "      <td>0 days 00:12:00</td>\n",
       "    </tr>\n",
       "    <tr>\n",
       "      <th>3</th>\n",
       "      <td>3</td>\n",
       "      <td>2013-1-1 06:00:00</td>\n",
       "      <td>2013-01-01 05:55:00</td>\n",
       "      <td>2013-01-01 09:13:00</td>\n",
       "      <td>2013-01-01 08:54:00</td>\n",
       "      <td>507</td>\n",
       "      <td>EWR</td>\n",
       "      <td>FLL</td>\n",
       "      <td>0 days 03:18:00</td>\n",
       "      <td>0 days 00:19:00</td>\n",
       "    </tr>\n",
       "    <tr>\n",
       "      <th>4</th>\n",
       "      <td>4</td>\n",
       "      <td>2013-1-1 06:00:00</td>\n",
       "      <td>2013-01-01 05:57:00</td>\n",
       "      <td>2013-01-01 08:38:00</td>\n",
       "      <td>2013-01-01 08:46:00</td>\n",
       "      <td>79</td>\n",
       "      <td>JFK</td>\n",
       "      <td>MCO</td>\n",
       "      <td>0 days 02:41:00</td>\n",
       "      <td>0 days 00:08:00</td>\n",
       "    </tr>\n",
       "  </tbody>\n",
       "</table>\n",
       "</div>"
      ],
      "text/plain": [
       "   Unnamed: 0       datetime_val            dep_time            arr_time  \\\n",
       "0           0  2013-1-1 05:40:00 2013-01-01 05:42:00 2013-01-01 09:23:00   \n",
       "1           1  2013-1-1 06:00:00 2013-01-01 05:54:00 2013-01-01 08:12:00   \n",
       "2           2  2013-1-1 05:58:00 2013-01-01 05:54:00 2013-01-01 07:40:00   \n",
       "3           3  2013-1-1 06:00:00 2013-01-01 05:55:00 2013-01-01 09:13:00   \n",
       "4           4  2013-1-1 06:00:00 2013-01-01 05:57:00 2013-01-01 08:38:00   \n",
       "\n",
       "       sched_arr_time  flight origin dest         airTime           delay  \n",
       "0 2013-01-01 08:50:00    1141    JFK  MIA 0 days 03:41:00 0 days 00:33:00  \n",
       "1 2013-01-01 08:37:00     461    LGA  ATL 0 days 02:18:00 0 days 00:25:00  \n",
       "2 2013-01-01 07:28:00    1696    EWR  ORD 0 days 01:46:00 0 days 00:12:00  \n",
       "3 2013-01-01 08:54:00     507    EWR  FLL 0 days 03:18:00 0 days 00:19:00  \n",
       "4 2013-01-01 08:46:00      79    JFK  MCO 0 days 02:41:00 0 days 00:08:00  "
      ]
     },
     "execution_count": 9,
     "metadata": {},
     "output_type": "execute_result"
    }
   ],
   "source": [
    "dfPlanes = pd.read_csv('https://raw.githubusercontent.com/atikagondal/Lab-2023-DAVE3625/main/Lab3/data/flight.csv') # Loading data\n",
    "\n",
    "# dfPlanes.head() used to confirmed that the data was loaded\n",
    "dfPlanes['dep_time'] = pd.to_datetime(dfPlanes['dep_time'], errors=\"coerce\") #doge errors, and chages the data to time\n",
    "dfPlanes['arr_time'] = pd.to_datetime(dfPlanes['arr_time'], errors=\"coerce\") #doge errors, and changes the data to time\n",
    "dfPlanes['sched_arr_time'] = pd.to_datetime(dfPlanes['sched_arr_time'], errors=\"coerce\") #doge erros, and changes the data to time\n",
    "dfPlanes['airTime'] = abs(dfPlanes['dep_time'] - dfPlanes['arr_time']) #uses the abs function in python to controll negative number and calculate airtime\n",
    "dfPlanes['delay'] = abs(dfPlanes['arr_time'] - dfPlanes['sched_arr_time']) #calculates the delay. \n",
    "\n",
    "\n",
    "dfPlanes.head()\n"
   ]
  },
  {
   "cell_type": "markdown",
   "metadata": {},
   "source": [
    "## showing the percent of delay "
   ]
  },
  {
   "cell_type": "markdown",
   "metadata": {},
   "source": [
    "In this part we use the percentage formula to calculate what precentage it is, this could be affected by the previous data. then we assign the precentage to a seperate row.\n",
    "\n",
    "we use the formula:\n",
    "(100 * part)/possible part\n",
    "\n",
    "I choose to create a scatter plot, however, this is not optimal"
   ]
  },
  {
   "cell_type": "code",
   "execution_count": 10,
   "metadata": {},
   "outputs": [
    {
     "data": {
      "text/plain": [
       "<Axes: >"
      ]
     },
     "execution_count": 10,
     "metadata": {},
     "output_type": "execute_result"
    },
    {
     "data": {
      "image/png": "[encoded data removed]",
      "text/plain": [
       "<Figure size 640x480 with 1 Axes>"
      ]
     },
     "metadata": {},
     "output_type": "display_data"
    }
   ],
   "source": [
    "\n",
    "dfPlanes['PrecentDelay'] = (100 * dfPlanes['delay'])/dfPlanes['airTime'] # find the percentage\n",
    "dfPlanes['PrecentDelay'].plot.box() #plotbox \n",
    "\n"
   ]
  },
  {
   "cell_type": "markdown",
   "metadata": {},
   "source": [
    "## creating a scatterplot\n",
    "\n",
    "i decided to step away from the lab and include the lower and higher five percent., after seeing that the plot was a bit wierd, i tried to cut the "
   ]
  },
  {
   "cell_type": "code",
   "execution_count": 11,
   "metadata": {},
   "outputs": [],
   "source": [
    "from pandas.api.types import is_numeric_dtype\n",
    "#removes the outlier, from the lab\n",
    "def remove_outlier(df): \n",
    "    low = 0.5 #defines the lower\n",
    "    high = 0.95 #defines the highes\n",
    "    quant_df = df.quantile([low,high]) #defines the quantile of the dataset, between 5 and 95 percent\n",
    "    if is_numeric_dtype(df):\n",
    "        df = df[(df > quant_df.loc[low]) & (df < quant_df.loc[high])] # partitions the part that use the quantile\n",
    "    return df "
   ]
  },
  {
   "cell_type": "code",
   "execution_count": 12,
   "metadata": {},
   "outputs": [
    {
     "data": {
      "text/plain": [
       "<Axes: xlabel='dest', ylabel='PrecentDelay'>"
      ]
     },
     "execution_count": 12,
     "metadata": {},
     "output_type": "execute_result"
    },
    {
     "data": {
      "image/png": "[encoded data removed]",
      "text/plain": [
       "<Figure size 640x480 with 1 Axes>"
      ]
     },
     "metadata": {},
     "output_type": "display_data"
    },
    {
     "data": {
      "image/png": "[encoded data removed]",
      "text/plain": [
       "<Figure size 640x480 with 1 Axes>"
      ]
     },
     "metadata": {},
     "output_type": "display_data"
    }
   ],
   "source": [
    "\n",
    "dfPlanes['PrecentDelay'] = remove_outlier(dfPlanes['PrecentDelay']) #removes the outliers\n",
    "dfPlanes['PrecentDelay'].plot.box() #creates the plotbox\n",
    "dfPlanes.plot.scatter(x = 'dest',y = 'PrecentDelay', s=120) #creates a scatter plot"
   ]
  }
 ],
 "metadata": {
  "kernelspec": {
   "display_name": "dave3625",
   "language": "python",
   "name": "python3"
  },
  "language_info": {
   "codemirror_mode": {
    "name": "ipython",
    "version": 3
   },
   "file_extension": ".py",
   "mimetype": "text/x-python",
   "name": "python",
   "nbconvert_exporter": "python",
   "pygments_lexer": "ipython3",
   "version": "3.8.17"
  },
  "orig_nbformat": 4
 },
 "nbformat": 4,
 "nbformat_minor": 2
}
