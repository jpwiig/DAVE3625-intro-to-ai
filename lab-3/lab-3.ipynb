{
 "cells": [
  {
   "cell_type": "markdown",
   "metadata": {},
   "source": [
    "## Lab 3"
   ]
  },
  {
   "cell_type": "markdown",
   "metadata": {},
   "source": [
    "Part 1: generate fake data to anonymize"
   ]
  },
  {
   "cell_type": "code",
   "execution_count": 10,
   "metadata": {},
   "outputs": [
    {
     "data": {
      "text/html": [
       "<div>\n",
       "<style scoped>\n",
       "    .dataframe tbody tr th:only-of-type {\n",
       "        vertical-align: middle;\n",
       "    }\n",
       "\n",
       "    .dataframe tbody tr th {\n",
       "        vertical-align: top;\n",
       "    }\n",
       "\n",
       "    .dataframe thead th {\n",
       "        text-align: right;\n",
       "    }\n",
       "</style>\n",
       "<table border=\"1\" class=\"dataframe\">\n",
       "  <thead>\n",
       "    <tr style=\"text-align: right;\">\n",
       "      <th></th>\n",
       "      <th>Navn</th>\n",
       "      <th>Adresse</th>\n",
       "      <th>PersonNr</th>\n",
       "      <th>CreditCard</th>\n",
       "      <th>ipv4</th>\n",
       "    </tr>\n",
       "  </thead>\n",
       "  <tbody>\n",
       "    <tr>\n",
       "      <th>0</th>\n",
       "      <td>Anna Solheim</td>\n",
       "      <td>Myhrevollen 7, 0340 Jenssen</td>\n",
       "      <td>26094544733</td>\n",
       "      <td>3542653656477432</td>\n",
       "      <td>201.239.112.97</td>\n",
       "    </tr>\n",
       "    <tr>\n",
       "      <th>1</th>\n",
       "      <td>Eli Eliassen</td>\n",
       "      <td>Sivertsengata 62F, 4210 Toreøy</td>\n",
       "      <td>01034507933</td>\n",
       "      <td>180020572398634</td>\n",
       "      <td>173.5.35.224</td>\n",
       "    </tr>\n",
       "    <tr>\n",
       "      <th>2</th>\n",
       "      <td>Kåre Ahmed</td>\n",
       "      <td>Moenbråten 587, 1010 Gerdsjøen</td>\n",
       "      <td>22059040913</td>\n",
       "      <td>4611551671923704739</td>\n",
       "      <td>27.144.79.24</td>\n",
       "    </tr>\n",
       "    <tr>\n",
       "      <th>3</th>\n",
       "      <td>Håkon Mathisen-Bakke</td>\n",
       "      <td>Thomassenkroken 927, 4155 Vik</td>\n",
       "      <td>06087731608</td>\n",
       "      <td>6011825341672602</td>\n",
       "      <td>97.54.128.52</td>\n",
       "    </tr>\n",
       "    <tr>\n",
       "      <th>4</th>\n",
       "      <td>Steinar Vik</td>\n",
       "      <td>Arnesenhavna 62, 3257 Aas</td>\n",
       "      <td>07046529264</td>\n",
       "      <td>676133355948</td>\n",
       "      <td>66.84.41.150</td>\n",
       "    </tr>\n",
       "  </tbody>\n",
       "</table>\n",
       "</div>"
      ],
      "text/plain": [
       "                   Navn                         Adresse     PersonNr  \\\n",
       "0          Anna Solheim     Myhrevollen 7, 0340 Jenssen  26094544733   \n",
       "1          Eli Eliassen  Sivertsengata 62F, 4210 Toreøy  01034507933   \n",
       "2            Kåre Ahmed  Moenbråten 587, 1010 Gerdsjøen  22059040913   \n",
       "3  Håkon Mathisen-Bakke   Thomassenkroken 927, 4155 Vik  06087731608   \n",
       "4           Steinar Vik       Arnesenhavna 62, 3257 Aas  07046529264   \n",
       "\n",
       "            CreditCard            ipv4  \n",
       "0     3542653656477432  201.239.112.97  \n",
       "1      180020572398634    173.5.35.224  \n",
       "2  4611551671923704739    27.144.79.24  \n",
       "3     6011825341672602    97.54.128.52  \n",
       "4         676133355948    66.84.41.150  "
      ]
     },
     "execution_count": 10,
     "metadata": {},
     "output_type": "execute_result"
    }
   ],
   "source": [
    "from faker import Faker; \n",
    "import pandas as pd; \n",
    "from faker.providers.credit_card import Provider as creditcardProivder; \n",
    "\n",
    "df = pd.DataFrame(columns=['Navn', 'Adresse', 'PersonNr', 'CreditCard', 'ipv4'])\n",
    "fake = Faker(['no_NO']) #decides the condition for the fake credential -> this instance, we can see the that is use Norwegian setting \n",
    "\n",
    "for i in range(0,100):\n",
    "    row=fake.name(),fake.address(),fake.ssn(),fake.credit_card_number(), fake.ipv4()\n",
    "    df.loc[i]=row\n",
    "\n",
    "df.head()"
   ]
  },
  {
   "cell_type": "markdown",
   "metadata": {},
   "source": [
    "Task 2: data anonymization"
   ]
  },
  {
   "cell_type": "code",
   "execution_count": null,
   "metadata": {},
   "outputs": [],
   "source": []
  }
 ],
 "metadata": {
  "kernelspec": {
   "display_name": "dave3625",
   "language": "python",
   "name": "python3"
  },
  "language_info": {
   "codemirror_mode": {
    "name": "ipython",
    "version": 3
   },
   "file_extension": ".py",
   "mimetype": "text/x-python",
   "name": "python",
   "nbconvert_exporter": "python",
   "pygments_lexer": "ipython3",
   "version": "3.8.17"
  },
  "orig_nbformat": 4
 },
 "nbformat": 4,
 "nbformat_minor": 2
}
