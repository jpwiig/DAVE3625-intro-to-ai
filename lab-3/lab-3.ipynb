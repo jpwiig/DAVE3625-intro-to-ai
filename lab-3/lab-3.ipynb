{
 "cells": [
  {
   "cell_type": "markdown",
   "metadata": {},
   "source": [
    "## Lab 3"
   ]
  },
  {
   "cell_type": "markdown",
   "metadata": {},
   "source": [
    "Part 1: generate fake data to anonymize"
   ]
  },
  {
   "cell_type": "code",
   "execution_count": 150,
   "metadata": {},
   "outputs": [
    {
     "data": {
      "text/html": [
       "<div>\n",
       "<style scoped>\n",
       "    .dataframe tbody tr th:only-of-type {\n",
       "        vertical-align: middle;\n",
       "    }\n",
       "\n",
       "    .dataframe tbody tr th {\n",
       "        vertical-align: top;\n",
       "    }\n",
       "\n",
       "    .dataframe thead th {\n",
       "        text-align: right;\n",
       "    }\n",
       "</style>\n",
       "<table border=\"1\" class=\"dataframe\">\n",
       "  <thead>\n",
       "    <tr style=\"text-align: right;\">\n",
       "      <th></th>\n",
       "      <th>Navn</th>\n",
       "      <th>Adresse</th>\n",
       "      <th>PersonNr</th>\n",
       "      <th>CreditCard</th>\n",
       "      <th>ipv4</th>\n",
       "    </tr>\n",
       "  </thead>\n",
       "  <tbody>\n",
       "    <tr>\n",
       "      <th>0</th>\n",
       "      <td>Joakim Ali</td>\n",
       "      <td>Kristiansenmyra 81, 1049 Jakobsen</td>\n",
       "      <td>13074134496</td>\n",
       "      <td>38054962421783</td>\n",
       "      <td>12.193.16.131</td>\n",
       "    </tr>\n",
       "    <tr>\n",
       "      <th>1</th>\n",
       "      <td>Nils-Sindre Andresen</td>\n",
       "      <td>Pettersenstykket 5, 2883 Astridberg</td>\n",
       "      <td>07098606895</td>\n",
       "      <td>4587221532106</td>\n",
       "      <td>170.222.121.9</td>\n",
       "    </tr>\n",
       "    <tr>\n",
       "      <th>2</th>\n",
       "      <td>Ann Christensen</td>\n",
       "      <td>Ahmedekra 1, 1994 Nygård</td>\n",
       "      <td>24105126723</td>\n",
       "      <td>4329243777453244</td>\n",
       "      <td>172.144.226.187</td>\n",
       "    </tr>\n",
       "    <tr>\n",
       "      <th>3</th>\n",
       "      <td>Håvard Birkeland</td>\n",
       "      <td>Bergehavna 7, 3304 Thorsen</td>\n",
       "      <td>26019547972</td>\n",
       "      <td>4712333999766015520</td>\n",
       "      <td>40.60.9.117</td>\n",
       "    </tr>\n",
       "    <tr>\n",
       "      <th>4</th>\n",
       "      <td>Hanna Hagen-Paulsen</td>\n",
       "      <td>Jensentjernet 4, 8173 Myhre</td>\n",
       "      <td>09106938382</td>\n",
       "      <td>4853901013597</td>\n",
       "      <td>21.220.169.239</td>\n",
       "    </tr>\n",
       "  </tbody>\n",
       "</table>\n",
       "</div>"
      ],
      "text/plain": [
       "                   Navn                              Adresse     PersonNr  \\\n",
       "0            Joakim Ali    Kristiansenmyra 81, 1049 Jakobsen  13074134496   \n",
       "1  Nils-Sindre Andresen  Pettersenstykket 5, 2883 Astridberg  07098606895   \n",
       "2       Ann Christensen             Ahmedekra 1, 1994 Nygård  24105126723   \n",
       "3      Håvard Birkeland           Bergehavna 7, 3304 Thorsen  26019547972   \n",
       "4   Hanna Hagen-Paulsen          Jensentjernet 4, 8173 Myhre  09106938382   \n",
       "\n",
       "            CreditCard             ipv4  \n",
       "0       38054962421783    12.193.16.131  \n",
       "1        4587221532106    170.222.121.9  \n",
       "2     4329243777453244  172.144.226.187  \n",
       "3  4712333999766015520      40.60.9.117  \n",
       "4        4853901013597   21.220.169.239  "
      ]
     },
     "execution_count": 150,
     "metadata": {},
     "output_type": "execute_result"
    }
   ],
   "source": [
    "%matplotlib inline\n",
    "import numpy as np\n",
    "import matplotlib.pyplot as plt\n",
    "import datetime\n",
    "from faker import Faker; \n",
    "import pandas as pd; \n",
    "from faker.providers.credit_card import Provider as creditcardProivder; \n",
    " \n",
    "\n",
    "df = pd.DataFrame(columns=['Navn', 'Adresse', 'PersonNr', 'CreditCard', 'ipv4'])\n",
    "fake = Faker(['no_NO']) #decides the condition for the fake credential -> this instance, we can see the that is use Norwegian setting \n",
    "\n",
    "for i in range(0,100):\n",
    "    row=fake.name(),fake.address(),fake.ssn(),fake.credit_card_number(), fake.ipv4()\n",
    "    df.loc[i]=row\n",
    "\n",
    "df.head()"
   ]
  },
  {
   "cell_type": "markdown",
   "metadata": {},
   "source": [
    "Task 2: data anonymization"
   ]
  },
  {
   "cell_type": "code",
   "execution_count": 151,
   "metadata": {},
   "outputs": [],
   "source": [
    "#Waiting for answear from TAs, due to the issues with landromat"
   ]
  },
  {
   "cell_type": "markdown",
   "metadata": {},
   "source": [
    "### Task 3: Time Series "
   ]
  },
  {
   "cell_type": "code",
   "execution_count": 152,
   "metadata": {},
   "outputs": [
    {
     "data": {
      "text/html": [
       "<div>\n",
       "<style scoped>\n",
       "    .dataframe tbody tr th:only-of-type {\n",
       "        vertical-align: middle;\n",
       "    }\n",
       "\n",
       "    .dataframe tbody tr th {\n",
       "        vertical-align: top;\n",
       "    }\n",
       "\n",
       "    .dataframe thead th {\n",
       "        text-align: right;\n",
       "    }\n",
       "</style>\n",
       "<table border=\"1\" class=\"dataframe\">\n",
       "  <thead>\n",
       "    <tr style=\"text-align: right;\">\n",
       "      <th></th>\n",
       "      <th>Unnamed: 0</th>\n",
       "      <th>datetime_val</th>\n",
       "      <th>dep_time</th>\n",
       "      <th>arr_time</th>\n",
       "      <th>sched_arr_time</th>\n",
       "      <th>flight</th>\n",
       "      <th>origin</th>\n",
       "      <th>dest</th>\n",
       "      <th>airTime</th>\n",
       "      <th>delay</th>\n",
       "    </tr>\n",
       "  </thead>\n",
       "  <tbody>\n",
       "    <tr>\n",
       "      <th>0</th>\n",
       "      <td>0</td>\n",
       "      <td>2013-1-1 05:40:00</td>\n",
       "      <td>2013-01-01 05:42:00</td>\n",
       "      <td>2013-01-01 09:23:00</td>\n",
       "      <td>2013-01-01 08:50:00</td>\n",
       "      <td>1141</td>\n",
       "      <td>JFK</td>\n",
       "      <td>MIA</td>\n",
       "      <td>0 days 03:41:00</td>\n",
       "      <td>0 days 00:33:00</td>\n",
       "    </tr>\n",
       "    <tr>\n",
       "      <th>1</th>\n",
       "      <td>1</td>\n",
       "      <td>2013-1-1 06:00:00</td>\n",
       "      <td>2013-01-01 05:54:00</td>\n",
       "      <td>2013-01-01 08:12:00</td>\n",
       "      <td>2013-01-01 08:37:00</td>\n",
       "      <td>461</td>\n",
       "      <td>LGA</td>\n",
       "      <td>ATL</td>\n",
       "      <td>0 days 02:18:00</td>\n",
       "      <td>0 days 00:25:00</td>\n",
       "    </tr>\n",
       "    <tr>\n",
       "      <th>2</th>\n",
       "      <td>2</td>\n",
       "      <td>2013-1-1 05:58:00</td>\n",
       "      <td>2013-01-01 05:54:00</td>\n",
       "      <td>2013-01-01 07:40:00</td>\n",
       "      <td>2013-01-01 07:28:00</td>\n",
       "      <td>1696</td>\n",
       "      <td>EWR</td>\n",
       "      <td>ORD</td>\n",
       "      <td>0 days 01:46:00</td>\n",
       "      <td>0 days 00:12:00</td>\n",
       "    </tr>\n",
       "    <tr>\n",
       "      <th>3</th>\n",
       "      <td>3</td>\n",
       "      <td>2013-1-1 06:00:00</td>\n",
       "      <td>2013-01-01 05:55:00</td>\n",
       "      <td>2013-01-01 09:13:00</td>\n",
       "      <td>2013-01-01 08:54:00</td>\n",
       "      <td>507</td>\n",
       "      <td>EWR</td>\n",
       "      <td>FLL</td>\n",
       "      <td>0 days 03:18:00</td>\n",
       "      <td>0 days 00:19:00</td>\n",
       "    </tr>\n",
       "    <tr>\n",
       "      <th>4</th>\n",
       "      <td>4</td>\n",
       "      <td>2013-1-1 06:00:00</td>\n",
       "      <td>2013-01-01 05:57:00</td>\n",
       "      <td>2013-01-01 08:38:00</td>\n",
       "      <td>2013-01-01 08:46:00</td>\n",
       "      <td>79</td>\n",
       "      <td>JFK</td>\n",
       "      <td>MCO</td>\n",
       "      <td>0 days 02:41:00</td>\n",
       "      <td>0 days 00:08:00</td>\n",
       "    </tr>\n",
       "  </tbody>\n",
       "</table>\n",
       "</div>"
      ],
      "text/plain": [
       "   Unnamed: 0       datetime_val            dep_time            arr_time  \\\n",
       "0           0  2013-1-1 05:40:00 2013-01-01 05:42:00 2013-01-01 09:23:00   \n",
       "1           1  2013-1-1 06:00:00 2013-01-01 05:54:00 2013-01-01 08:12:00   \n",
       "2           2  2013-1-1 05:58:00 2013-01-01 05:54:00 2013-01-01 07:40:00   \n",
       "3           3  2013-1-1 06:00:00 2013-01-01 05:55:00 2013-01-01 09:13:00   \n",
       "4           4  2013-1-1 06:00:00 2013-01-01 05:57:00 2013-01-01 08:38:00   \n",
       "\n",
       "       sched_arr_time  flight origin dest         airTime           delay  \n",
       "0 2013-01-01 08:50:00    1141    JFK  MIA 0 days 03:41:00 0 days 00:33:00  \n",
       "1 2013-01-01 08:37:00     461    LGA  ATL 0 days 02:18:00 0 days 00:25:00  \n",
       "2 2013-01-01 07:28:00    1696    EWR  ORD 0 days 01:46:00 0 days 00:12:00  \n",
       "3 2013-01-01 08:54:00     507    EWR  FLL 0 days 03:18:00 0 days 00:19:00  \n",
       "4 2013-01-01 08:46:00      79    JFK  MCO 0 days 02:41:00 0 days 00:08:00  "
      ]
     },
     "execution_count": 152,
     "metadata": {},
     "output_type": "execute_result"
    }
   ],
   "source": [
    "dfPlanes = pd.read_csv('https://raw.githubusercontent.com/atikagondal/Lab-2023-DAVE3625/main/Lab3/data/flight.csv')\n",
    "dfPlanes.head()\n",
    "dfPlanes['dep_time'] = pd.to_datetime(dfPlanes['dep_time'], errors=\"coerce\") \n",
    "dfPlanes['arr_time'] = pd.to_datetime(dfPlanes['arr_time'], errors=\"coerce\")\n",
    "dfPlanes['sched_arr_time'] = pd.to_datetime(dfPlanes['sched_arr_time'], errors=\"coerce\")\n",
    "dfPlanes['airTime'] = abs(dfPlanes['dep_time'] - dfPlanes['arr_time'])\n",
    "dfPlanes['delay'] = abs(dfPlanes['arr_time'] - dfPlanes['sched_arr_time'])\n",
    "\n",
    "\n",
    "dfPlanes.head()\n"
   ]
  },
  {
   "cell_type": "markdown",
   "metadata": {},
   "source": [
    "## showing the percent of delay "
   ]
  },
  {
   "cell_type": "markdown",
   "metadata": {},
   "source": []
  },
  {
   "cell_type": "code",
   "execution_count": 153,
   "metadata": {},
   "outputs": [
    {
     "data": {
      "text/plain": [
       "<Axes: >"
      ]
     },
     "execution_count": 153,
     "metadata": {},
     "output_type": "execute_result"
    },
    {
     "data": {
      "image/png": "[encoded data removed]",
      "text/plain": [
       "<Figure size 640x480 with 1 Axes>"
      ]
     },
     "metadata": {},
     "output_type": "display_data"
    }
   ],
   "source": [
    "\n",
    "dfPlanes['PrecentDelay'] = (100 * dfPlanes['delay'])/dfPlanes['airTime']\n",
    "dfPlanes['PrecentDelay'].plot.box()\n"
   ]
  },
  {
   "cell_type": "markdown",
   "metadata": {},
   "source": [
    "## creating a scatterplot\n",
    "\n",
    "i decided to step away from the lab and include the lower and higher five percent. "
   ]
  },
  {
   "cell_type": "code",
   "execution_count": 154,
   "metadata": {},
   "outputs": [],
   "source": [
    "from pandas.api.types import is_numeric_dtype\n",
    "def remove_outlier(df): \n",
    "    low = 0.5\n",
    "    high = 0.95\n",
    "    quant_df = df.quantile([low,high])\n",
    "    if is_numeric_dtype(df):\n",
    "        df = df[(df > quant_df.loc[low]) & (df < quant_df.loc[high])]\n",
    "    return df "
   ]
  },
  {
   "cell_type": "code",
   "execution_count": 155,
   "metadata": {},
   "outputs": [
    {
     "ename": "TypeError",
     "evalue": "scatter() missing 1 required positional argument: 'x'",
     "output_type": "error",
     "traceback": [
      "\u001b[0;31m---------------------------------------------------------------------------\u001b[0m",
      "\u001b[0;31mTypeError\u001b[0m                                 Traceback (most recent call last)",
      "\u001b[1;32m/home/jpwiig/Documents/Dave3625/lab-3/lab-3.ipynb Cell 13\u001b[0m line \u001b[0;36m2\n\u001b[1;32m      <a href='vscode-notebook-cell:/home/jpwiig/Documents/Dave3625/lab-3/lab-3.ipynb#X11sZmlsZQ%3D%3D?line=0'>1</a>\u001b[0m dfPlanes[\u001b[39m'\u001b[39m\u001b[39mPrecentDelay\u001b[39m\u001b[39m'\u001b[39m] \u001b[39m=\u001b[39m remove_outlier(dfPlanes[\u001b[39m'\u001b[39m\u001b[39mPrecentDelay\u001b[39m\u001b[39m'\u001b[39m])\n\u001b[0;32m----> <a href='vscode-notebook-cell:/home/jpwiig/Documents/Dave3625/lab-3/lab-3.ipynb#X11sZmlsZQ%3D%3D?line=1'>2</a>\u001b[0m dfPlanes\u001b[39m.\u001b[39;49mplot\u001b[39m.\u001b[39;49mscatter(y \u001b[39m=\u001b[39;49m \u001b[39m'\u001b[39;49m\u001b[39mPrecentDelay\u001b[39;49m\u001b[39m'\u001b[39;49m)\n",
      "\u001b[0;31mTypeError\u001b[0m: scatter() missing 1 required positional argument: 'x'"
     ]
    }
   ],
   "source": [
    "\n",
    "dfPlanes['PrecentDelay'] = remove_outlier(dfPlanes['PrecentDelay'])\n",
    "dfPlanes.plot.scatter(x = 'dest',y = 'PrecentDelay')"
   ]
  }
 ],
 "metadata": {
  "kernelspec": {
   "display_name": "dave3625",
   "language": "python",
   "name": "python3"
  },
  "language_info": {
   "codemirror_mode": {
    "name": "ipython",
    "version": 3
   },
   "file_extension": ".py",
   "mimetype": "text/x-python",
   "name": "python",
   "nbconvert_exporter": "python",
   "pygments_lexer": "ipython3",
   "version": "3.8.17"
  },
  "orig_nbformat": 4
 },
 "nbformat": 4,
 "nbformat_minor": 2
}
