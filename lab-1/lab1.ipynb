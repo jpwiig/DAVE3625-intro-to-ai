{
 "cells": [
  {
   "cell_type": "markdown",
   "metadata": {},
   "source": [
    "# lab 1\n",
    "From: https://github.com/atikagondal/Lab-2023-DAVE3625/tree/main/Lab1\n"
   ]
  },
  {
   "cell_type": "code",
   "execution_count": 11,
   "metadata": {},
   "outputs": [
    {
     "name": "stdout",
     "output_type": "stream",
     "text": [
      "<class 'pandas.core.frame.DataFrame'>\n",
      "RangeIndex: 50 entries, 0 to 49\n",
      "Data columns (total 5 columns):\n",
      " #   Column      Non-Null Count  Dtype  \n",
      "---  ------      --------------  -----  \n",
      " 0   StudentID   50 non-null     int64  \n",
      " 1   Age         50 non-null     object \n",
      " 2   email       50 non-null     object \n",
      " 3   hrsStudy    50 non-null     object \n",
      " 4   FinalGrade  49 non-null     float64\n",
      "dtypes: float64(1), int64(1), object(3)\n",
      "memory usage: 2.1+ KB\n"
     ]
    },
    {
     "data": {
      "text/html": [
       "<div>\n",
       "<style scoped>\n",
       "    .dataframe tbody tr th:only-of-type {\n",
       "        vertical-align: middle;\n",
       "    }\n",
       "\n",
       "    .dataframe tbody tr th {\n",
       "        vertical-align: top;\n",
       "    }\n",
       "\n",
       "    .dataframe thead th {\n",
       "        text-align: right;\n",
       "    }\n",
       "</style>\n",
       "<table border=\"1\" class=\"dataframe\">\n",
       "  <thead>\n",
       "    <tr style=\"text-align: right;\">\n",
       "      <th></th>\n",
       "      <th>StudentID</th>\n",
       "      <th>Age</th>\n",
       "      <th>email</th>\n",
       "      <th>hrsStudy</th>\n",
       "      <th>FinalGrade</th>\n",
       "    </tr>\n",
       "  </thead>\n",
       "  <tbody>\n",
       "    <tr>\n",
       "      <th>0</th>\n",
       "      <td>47412</td>\n",
       "      <td>20</td>\n",
       "      <td>s47412@oslomet.no</td>\n",
       "      <td>5</td>\n",
       "      <td>46.0</td>\n",
       "    </tr>\n",
       "    <tr>\n",
       "      <th>1</th>\n",
       "      <td>15077</td>\n",
       "      <td>22</td>\n",
       "      <td>s15077@oslomet.no</td>\n",
       "      <td>0</td>\n",
       "      <td>65.0</td>\n",
       "    </tr>\n",
       "    <tr>\n",
       "      <th>2</th>\n",
       "      <td>15467</td>\n",
       "      <td>27</td>\n",
       "      <td>s15467@oslomet.no</td>\n",
       "      <td>1</td>\n",
       "      <td>26.0</td>\n",
       "    </tr>\n",
       "    <tr>\n",
       "      <th>3</th>\n",
       "      <td>17907</td>\n",
       "      <td>21</td>\n",
       "      <td>s17907@oslomet.no</td>\n",
       "      <td>6</td>\n",
       "      <td>68.0</td>\n",
       "    </tr>\n",
       "    <tr>\n",
       "      <th>4</th>\n",
       "      <td>13352</td>\n",
       "      <td>333</td>\n",
       "      <td>s13352@oslomet.no</td>\n",
       "      <td>4</td>\n",
       "      <td>34.0</td>\n",
       "    </tr>\n",
       "  </tbody>\n",
       "</table>\n",
       "</div>"
      ],
      "text/plain": [
       "   StudentID  Age              email hrsStudy  FinalGrade\n",
       "0      47412   20  s47412@oslomet.no        5        46.0\n",
       "1      15077   22  s15077@oslomet.no        0        65.0\n",
       "2      15467   27  s15467@oslomet.no        1        26.0\n",
       "3      17907   21  s17907@oslomet.no        6        68.0\n",
       "4      13352  333  s13352@oslomet.no        4        34.0"
      ]
     },
     "execution_count": 11,
     "metadata": {},
     "output_type": "execute_result"
    }
   ],
   "source": [
    "\n",
    "import pandas as pd\n",
    "import numpy as np\n",
    "import matplotlib.pyplot as plt\n",
    "from scipy import stats\n",
    "\n",
    "#task 1 Reads inn the CSV file\n",
    "\n",
    "datafile = pd.read_csv(\"https://raw.githubusercontent.com/umaimehm/Intro_to_AI_2021/main/Lab1/stud.csv\", sep=',')\n",
    "datafile.info()\n",
    "datafile.head()"
   ]
  },
  {
   "cell_type": "code",
   "execution_count": 19,
   "metadata": {},
   "outputs": [
    {
     "name": "stdout",
     "output_type": "stream",
     "text": [
      "<class 'pandas.core.frame.DataFrame'>\n",
      "RangeIndex: 50 entries, 0 to 49\n",
      "Data columns (total 6 columns):\n",
      " #   Column      Non-Null Count  Dtype  \n",
      "---  ------      --------------  -----  \n",
      " 0   StudentID   50 non-null     int64  \n",
      " 1   Age         50 non-null     int32  \n",
      " 2   email       50 non-null     object \n",
      " 3   hrsStudy    50 non-null     int32  \n",
      " 4   FinalGrade  50 non-null     float64\n",
      " 5   grade       50 non-null     object \n",
      "dtypes: float64(1), int32(2), int64(1), object(2)\n",
      "memory usage: 2.1+ KB\n"
     ]
    }
   ],
   "source": [
    "regexp = r'^\\s*$'\n",
    "\n",
    "#task 2 replaces all the empty data with NaN\n",
    "datafile = datafile.replace(regexp, np.nan, regex=True)\n",
    "datafile['Age']=datafile['Age'].fillna(0).astype('int32')\n",
    "datafile['email']=datafile['email']\n",
    "datafile['hrsStudy']=datafile['hrsStudy'].fillna(0).astype('int32')\n",
    "datafile['FinalGrade']=datafile['FinalGrade'].fillna(0).astype(float)\n",
    "datafile.info()\n",
    "#datafile.dtype\n"
   ]
  },
  {
   "cell_type": "code",
   "execution_count": 18,
   "metadata": {},
   "outputs": [
    {
     "data": {
      "image/png": "[encoded data removed]",
      "text/plain": [
       "<Figure size 600x800 with 1 Axes>"
      ]
     },
     "metadata": {},
     "output_type": "display_data"
    }
   ],
   "source": [
    "#Task 3\n",
    "# 91 - 100 = A 81 - 90 = B 71 - 80 = C 61 – 70 = D 51 – 60 = E > 50 = F\n",
    "\n",
    "#conditions for the grades\n",
    "conditions = [\n",
    "(datafile['FinalGrade'] <= 100) & (datafile['FinalGrade'] >= 91), \n",
    "(datafile['FinalGrade'] <= 90) & (datafile['FinalGrade'] >= 81), \n",
    "(datafile['FinalGrade'] <= 80) & (datafile['FinalGrade'] >= 71),\n",
    "(datafile['FinalGrade'] <= 70) & (datafile['FinalGrade'] >= 61), \n",
    "(datafile['FinalGrade'] <= 60) & (datafile['FinalGrade'] >= 51), \n",
    "(datafile['FinalGrade'] <= 50)\n",
    "]                                                                                                                                                        \n",
    "#the grades\n",
    "val = ['A','B','C','D','E','F']\n",
    "#to add the grade colum\n",
    "datafile['grade'] = np.select(conditions, val)\n",
    "\n",
    "#finds gives the grades\n",
    "#grades = np.select(conditions, val)\n",
    "#creating the plot\n",
    "grade_counts = datafile['grade'].value_counts().reindex(grades, fill_value=0)\n",
    "plt.figure(figsize=(6, 8))\n",
    "plt.bar(grade_counts.index, grade_counts.values, color='skyblue')\n",
    "plt.xlabel('Grades')\n",
    "plt.ylabel('Number of Students')\n",
    "plt.title('Grade Distribution')\n",
    "plt.show()"
   ]
  }
 ],
 "metadata": {
  "kernelspec": {
   "display_name": "dave3625",
   "language": "python",
   "name": "python3"
  },
  "language_info": {
   "codemirror_mode": {
    "name": "ipython",
    "version": 3
   },
   "file_extension": ".py",
   "mimetype": "text/x-python",
   "name": "python",
   "nbconvert_exporter": "python",
   "pygments_lexer": "ipython3",
   "version": "3.8.17"
  },
  "orig_nbformat": 4
 },
 "nbformat": 4,
 "nbformat_minor": 2
}
